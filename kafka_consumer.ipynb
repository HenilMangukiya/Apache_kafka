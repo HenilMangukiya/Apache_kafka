{
 "cells": [
  {
   "cell_type": "code",
   "execution_count": 1,
   "id": "59b3d50b-19eb-4d09-b47f-d85a0b91d868",
   "metadata": {},
   "outputs": [
    {
     "name": "stdout",
     "output_type": "stream",
     "text": [
      "Requirement already satisfied: kafka-python in c:\\users\\henil\\appdata\\local\\programs\\python\\python311\\lib\\site-packages (2.0.5)\n",
      "Requirement already satisfied: gspread in c:\\users\\henil\\appdata\\local\\programs\\python\\python311\\lib\\site-packages (6.2.0)\n",
      "Requirement already satisfied: oauth2client in c:\\users\\henil\\appdata\\local\\programs\\python\\python311\\lib\\site-packages (4.1.3)\n",
      "Requirement already satisfied: pandas in c:\\users\\henil\\appdata\\local\\programs\\python\\python311\\lib\\site-packages (2.2.3)\n"
     ]
    },
    {
     "name": "stderr",
     "output_type": "stream",
     "text": [
      "ERROR: Could not find a version that satisfies the requirement yfinancepip (from versions: none)\n",
      "ERROR: No matching distribution found for yfinancepip\n"
     ]
    }
   ],
   "source": [
    "!pip install kafka-python gspread oauth2client pandas yfinancepip install --user kafka-python openpyxl pandas\n"
   ]
  },
  {
   "cell_type": "code",
   "execution_count": 2,
   "id": "9fa346f1-2d73-47a7-9914-19eb6040417f",
   "metadata": {},
   "outputs": [
    {
     "name": "stdout",
     "output_type": "stream",
     "text": [
      "Requirement already satisfied: yfinance in c:\\users\\henil\\appdata\\local\\programs\\python\\python311\\lib\\site-packages (0.2.54)\n",
      "Requirement already satisfied: pandas>=1.3.0 in c:\\users\\henil\\appdata\\local\\programs\\python\\python311\\lib\\site-packages (from yfinance) (2.2.3)\n",
      "Requirement already satisfied: numpy>=1.16.5 in c:\\users\\henil\\appdata\\local\\programs\\python\\python311\\lib\\site-packages (from yfinance) (2.2.3)\n",
      "Requirement already satisfied: requests>=2.31 in c:\\users\\henil\\appdata\\local\\programs\\python\\python311\\lib\\site-packages (from yfinance) (2.32.3)\n",
      "Requirement already satisfied: multitasking>=0.0.7 in c:\\users\\henil\\appdata\\local\\programs\\python\\python311\\lib\\site-packages (from yfinance) (0.0.11)\n",
      "Requirement already satisfied: platformdirs>=2.0.0 in c:\\users\\henil\\appdata\\local\\programs\\python\\python311\\lib\\site-packages (from yfinance) (4.3.6)\n",
      "Requirement already satisfied: pytz>=2022.5 in c:\\users\\henil\\appdata\\local\\programs\\python\\python311\\lib\\site-packages (from yfinance) (2025.1)\n",
      "Requirement already satisfied: frozendict>=2.3.4 in c:\\users\\henil\\appdata\\local\\programs\\python\\python311\\lib\\site-packages (from yfinance) (2.4.6)\n",
      "Requirement already satisfied: peewee>=3.16.2 in c:\\users\\henil\\appdata\\local\\programs\\python\\python311\\lib\\site-packages (from yfinance) (3.17.9)\n",
      "Requirement already satisfied: beautifulsoup4>=4.11.1 in c:\\users\\henil\\appdata\\local\\programs\\python\\python311\\lib\\site-packages (from yfinance) (4.13.3)\n",
      "Requirement already satisfied: soupsieve>1.2 in c:\\users\\henil\\appdata\\local\\programs\\python\\python311\\lib\\site-packages (from beautifulsoup4>=4.11.1->yfinance) (2.6)\n",
      "Requirement already satisfied: typing-extensions>=4.0.0 in c:\\users\\henil\\appdata\\local\\programs\\python\\python311\\lib\\site-packages (from beautifulsoup4>=4.11.1->yfinance) (4.12.2)\n",
      "Requirement already satisfied: python-dateutil>=2.8.2 in c:\\users\\henil\\appdata\\local\\programs\\python\\python311\\lib\\site-packages (from pandas>=1.3.0->yfinance) (2.9.0.post0)\n",
      "Requirement already satisfied: tzdata>=2022.7 in c:\\users\\henil\\appdata\\local\\programs\\python\\python311\\lib\\site-packages (from pandas>=1.3.0->yfinance) (2025.1)\n",
      "Requirement already satisfied: charset-normalizer<4,>=2 in c:\\users\\henil\\appdata\\local\\programs\\python\\python311\\lib\\site-packages (from requests>=2.31->yfinance) (3.4.1)\n",
      "Requirement already satisfied: idna<4,>=2.5 in c:\\users\\henil\\appdata\\local\\programs\\python\\python311\\lib\\site-packages (from requests>=2.31->yfinance) (3.10)\n",
      "Requirement already satisfied: urllib3<3,>=1.21.1 in c:\\users\\henil\\appdata\\local\\programs\\python\\python311\\lib\\site-packages (from requests>=2.31->yfinance) (2.3.0)\n",
      "Requirement already satisfied: certifi>=2017.4.17 in c:\\users\\henil\\appdata\\local\\programs\\python\\python311\\lib\\site-packages (from requests>=2.31->yfinance) (2025.1.31)\n",
      "Requirement already satisfied: six>=1.5 in c:\\users\\henil\\appdata\\local\\programs\\python\\python311\\lib\\site-packages (from python-dateutil>=2.8.2->pandas>=1.3.0->yfinance) (1.17.0)\n"
     ]
    }
   ],
   "source": [
    "!pip install yfinance\n",
    "\n"
   ]
  },
  {
   "cell_type": "code",
   "execution_count": null,
   "id": "cb0b6c58-6815-4944-a4eb-1217022a46a1",
   "metadata": {},
   "outputs": [
    {
     "name": "stdout",
     "output_type": "stream",
     "text": [
      "✅ Successfully connected to Google Sheets!\n",
      "🔄 Waiting for stock market data...\n",
      "📥 Received data: {'timestamp': '2025-03-20 11:25:00-04:00', 'stock': 'AAPL', 'price': 216.0050048828125, 'open': 216.0050048828125, 'high': 216.0050048828125, 'low': 216.0050048828125, 'previous_close': 215.24, 'volume': 0.0}\n",
      "✅ Google Sheets updated successfully!\n",
      "📥 Received data: {'timestamp': '2025-03-20 11:26:00-04:00', 'stock': 'AAPL', 'price': 216.00999450683594, 'open': 216.00999450683594, 'high': 216.00999450683594, 'low': 216.00999450683594, 'previous_close': 215.24, 'volume': 0.0}\n",
      "✅ Google Sheets updated successfully!\n",
      "📥 Received data: {'timestamp': '2025-03-20 11:26:00-04:00', 'stock': 'AAPL', 'price': 216.0399932861328, 'open': 216.0399932861328, 'high': 216.0399932861328, 'low': 216.0399932861328, 'previous_close': 215.24, 'volume': 0.0}\n",
      "✅ Google Sheets updated successfully!\n",
      "📥 Received data: {'timestamp': '2025-03-20 11:26:00-04:00', 'stock': 'AAPL', 'price': 216.0500030517578, 'open': 216.0500030517578, 'high': 216.0500030517578, 'low': 216.0500030517578, 'previous_close': 215.24, 'volume': 0.0}\n",
      "✅ Google Sheets updated successfully!\n",
      "📥 Received data: {'timestamp': '2025-03-20 11:27:00-04:00', 'stock': 'AAPL', 'price': 216.0399932861328, 'open': 216.0399932861328, 'high': 216.0399932861328, 'low': 216.0399932861328, 'previous_close': 215.24, 'volume': 0.0}\n",
      "✅ Google Sheets updated successfully!\n",
      "📥 Received data: {'timestamp': '2025-03-20 11:27:00-04:00', 'stock': 'IBM', 'price': 244.4600067138672, 'open': 244.4600067138672, 'high': 244.4600067138672, 'low': 244.4600067138672, 'previous_close': 252.29, 'volume': 0.0}\n",
      "✅ Google Sheets updated successfully!\n"
     ]
    }
   ],
   "source": [
    "import gspread\n",
    "from kafka import KafkaConsumer\n",
    "import json\n",
    "import pandas as pd\n",
    "from oauth2client.service_account import ServiceAccountCredentials\n",
    "\n",
    "# 🔹 Google Sheets Authentication\n",
    "scope = [\"https://spreadsheets.google.com/feeds\", \"https://www.googleapis.com/auth/drive\"]\n",
    "creds = ServiceAccountCredentials.from_json_keyfile_name(\"stock-market-data-project-446c6101e293.json\", scope)\n",
    "\n",
    "# 🔹 Retry connecting to Google Sheets\n",
    "for attempt in range(5):\n",
    "    try:\n",
    "        client = gspread.authorize(creds)\n",
    "        spreadsheet = client.open(\"Stock Market Data\")\n",
    "        sheet = spreadsheet.worksheet(\"Stock Data Logs\")  # Ensure this worksheet exists\n",
    "        print(\"✅ Successfully connected to Google Sheets!\")\n",
    "        break\n",
    "    except Exception as e:\n",
    "        print(f\"❌ Failed to connect to Google Sheets (Attempt {attempt + 1}/5): {e}\")\n",
    "        time.sleep(5)  # Wait and retry\n",
    "else:\n",
    "    raise Exception(\"🚨 Could not connect to Google Sheets after multiple attempts.\")\n",
    "\n",
    "# 🔹 Kafka Configuration\n",
    "KAFKA_SERVER = \"192.168.125.254:9092\"  # Update with your Kafka server IP\n",
    "TOPIC = \"stock_market_realtime\"\n",
    "\n",
    "consumer = KafkaConsumer(\n",
    "    TOPIC,\n",
    "    bootstrap_servers=KAFKA_SERVER,\n",
    "    value_deserializer=lambda v: json.loads(v.decode(\"utf-8\"))\n",
    ")\n",
    "\n",
    "print(\"🔄 Waiting for stock market data...\")\n",
    "\n",
    "for message in consumer:\n",
    "    try:\n",
    "        data = message.value\n",
    "        print(f\"📥 Received data: {data}\")\n",
    "\n",
    "        # 🔹 Convert data into Pandas DataFrame\n",
    "        df = pd.DataFrame([data])\n",
    "\n",
    "        # 🔹 Read existing data from Google Sheets\n",
    "        existing_data = sheet.get_all_records()\n",
    "        existing_df = pd.DataFrame(existing_data)\n",
    "\n",
    "        # 🔹 Append new data to existing sheet\n",
    "        updated_df = pd.concat([existing_df, df], ignore_index=True)\n",
    "\n",
    "        # 🔹 Clear existing data & Update Google Sheets\n",
    "        sheet.clear()\n",
    "        sheet.update([updated_df.columns.values.tolist()] + updated_df.values.tolist())\n",
    "\n",
    "        print(\"✅ Google Sheets updated successfully!\")\n",
    "\n",
    "    except Exception as e:\n",
    "        print(f\"❌ Error processing stock data: {e}\")\n"
   ]
  },
  {
   "cell_type": "code",
   "execution_count": null,
   "id": "c5445c0d-9c6a-456e-8631-814d995a81ef",
   "metadata": {},
   "outputs": [],
   "source": []
  },
  {
   "cell_type": "code",
   "execution_count": null,
   "id": "c524d255-9dca-4595-ac75-5fa70762b7e9",
   "metadata": {},
   "outputs": [],
   "source": []
  }
 ],
 "metadata": {
  "kernelspec": {
   "display_name": "Python 3 (ipykernel)",
   "language": "python",
   "name": "python3"
  },
  "language_info": {
   "codemirror_mode": {
    "name": "ipython",
    "version": 3
   },
   "file_extension": ".py",
   "mimetype": "text/x-python",
   "name": "python",
   "nbconvert_exporter": "python",
   "pygments_lexer": "ipython3",
   "version": "3.13.0"
  }
 },
 "nbformat": 4,
 "nbformat_minor": 5
}
